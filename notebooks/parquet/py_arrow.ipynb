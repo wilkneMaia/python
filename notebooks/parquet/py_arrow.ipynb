{
 "cells": [
  {
   "cell_type": "code",
   "execution_count": 1,
   "metadata": {},
   "outputs": [],
   "source": [
    "import pandas as pd\n",
    "import pyarrow as pa\n",
    "import pyarrow.parquet as pq\n",
    "\n",
    "# Create a sample DataFrame\n",
    "df = pd.DataFrame({\n",
    "    'Name': ['Alice', 'Bob', 'Charlie'],\n",
    "    'Age': [25, 30, 35],\n",
    "    'Salary': [50000, 60000, 70000]\n",
    "})\n",
    "\n",
    "# Convert the DataFrame to an Arrow Table\n",
    "table = pa.Table.from_pandas(df)\n",
    "\n",
    "# Write the Arrow Table to a Parquet file\n",
    "pq.write_table(table, 'files/sample.parquet')"
   ]
  },
  {
   "cell_type": "code",
   "execution_count": 3,
   "metadata": {},
   "outputs": [
    {
     "name": "stdout",
     "output_type": "stream",
     "text": [
      "      Name  Age  Salary\n",
      "0    Alice   25   50000\n",
      "1      Bob   30   60000\n",
      "2  Charlie   35   70000\n"
     ]
    }
   ],
   "source": [
    "# Read the Parquet file into an Arrow Table\n",
    "table = pq.read_table('files/sample.parquet')\n",
    "\n",
    "# Convert the Arrow Table to a Pandas DataFrame\n",
    "df = table.to_pandas()\n",
    "\n",
    "print(df)"
   ]
  },
  {
   "cell_type": "code",
   "execution_count": 5,
   "metadata": {},
   "outputs": [
    {
     "name": "stdout",
     "output_type": "stream",
     "text": [
      "      Name  Salary Age\n",
      "0    Alice   50000  25\n",
      "1    Alice   50000  25\n",
      "2      Bob   60000  30\n",
      "3      Bob   60000  30\n",
      "4  Charlie   70000  35\n",
      "5  Charlie   70000  35\n"
     ]
    }
   ],
   "source": [
    "# Write partitioned Parquet files\n",
    "pq.write_to_dataset(table, root_path='dataset/', partition_cols=['Age'])\n",
    "\n",
    "table = pq.ParquetDataset('dataset/').read()\n",
    "df = table.to_pandas()\n",
    "\n",
    "print(df)"
   ]
  }
 ],
 "metadata": {
  "kernelspec": {
   "display_name": ".venv",
   "language": "python",
   "name": "python3"
  },
  "language_info": {
   "codemirror_mode": {
    "name": "ipython",
    "version": 3
   },
   "file_extension": ".py",
   "mimetype": "text/x-python",
   "name": "python",
   "nbconvert_exporter": "python",
   "pygments_lexer": "ipython3",
   "version": "3.13.1"
  }
 },
 "nbformat": 4,
 "nbformat_minor": 2
}
